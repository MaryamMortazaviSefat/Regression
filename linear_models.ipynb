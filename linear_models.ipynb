{
  "cells": [
    {
      "cell_type": "code",
      "source": [
        "import matplotlib.pyplot as plt\n",
        "import numpy as np"
      ],
      "metadata": {
        "id": "slnmY5mIgaMH"
      },
      "execution_count": 1,
      "outputs": []
    },
    {
      "cell_type": "code",
      "source": [
        "from sklearn.datasets import make_regression\n",
        "from sklearn.model_selection import train_test_split\n",
        "from sklearn.linear_model import LinearRegression"
      ],
      "metadata": {
        "id": "p5Hw1_Sp9D_y"
      },
      "execution_count": 5,
      "outputs": []
    },
    {
      "cell_type": "code",
      "source": [
        "x,y,true_coefficent=make_regression(n_samples=200,n_features=30,n_informative=10,noise=100,coef=True,random_state=5)\n",
        "x_train,x_test,y_train,y_test=train_test_split(x,y,random_state=5,train_size=60,test_size=140)\n",
        "print(x_train.shape)\n",
        "print(y_train.shape)"
      ],
      "metadata": {
        "id": "P9vQnvjGkK6x",
        "outputId": "21643ddd-3f1b-460f-9eb8-5531947b865c",
        "colab": {
          "base_uri": "https://localhost:8080/"
        }
      },
      "execution_count": 4,
      "outputs": [
        {
          "output_type": "stream",
          "name": "stdout",
          "text": [
            "(60, 30)\n",
            "(60,)\n"
          ]
        }
      ]
    },
    {
      "cell_type": "code",
      "source": [
        "lr=LinearRegression().fit(x_train,y_train)"
      ],
      "metadata": {
        "id": "i8AkIOJQNMZK"
      },
      "execution_count": 6,
      "outputs": []
    },
    {
      "cell_type": "code",
      "source": [
        "print(lr.score(x_train,y_train))\n",
        "print(lr.score(x_test,y_test))"
      ],
      "metadata": {
        "id": "tmSZQ1uQNg7V",
        "outputId": "33d09f61-b924-499b-e4f8-1b3febec0e51",
        "colab": {
          "base_uri": "https://localhost:8080/"
        }
      },
      "execution_count": 9,
      "outputs": [
        {
          "output_type": "stream",
          "name": "stdout",
          "text": [
            "0.8780111193075131\n",
            "0.2163322251900296\n"
          ]
        }
      ]
    },
    {
      "cell_type": "code",
      "source": [],
      "metadata": {
        "id": "dg9V2iw4NhfF"
      },
      "execution_count": null,
      "outputs": []
    }
  ],
  "metadata": {
    "colab": {
      "name": "Welcome To Colab",
      "provenance": [],
      "toc_visible": true
    },
    "kernelspec": {
      "display_name": "Python 3",
      "name": "python3"
    }
  },
  "nbformat": 4,
  "nbformat_minor": 0
}